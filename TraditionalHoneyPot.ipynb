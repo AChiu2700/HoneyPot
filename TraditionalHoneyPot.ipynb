{
 "cells": [
  {
   "cell_type": "code",
   "execution_count": 1,
   "id": "2ff948f1-c3a0-4ebf-9538-b48bfd029eb7",
   "metadata": {},
   "outputs": [
    {
     "name": "stdout",
     "output_type": "stream",
     "text": [
      "Precision: 0.43\n",
      "Recall: 0.70\n",
      "F1-Score: 0.53\n",
      "Accuracy: 0.43\n"
     ]
    }
   ],
   "source": [
    "import pandas as pd\n",
    "\n",
    "# Load the dataset\n",
    "df = pd.read_csv(\"/home/achoo/Desktop/Honeypot/Test.txt\", sep=\",\", names=[\"duration\",\"protocoltype\",\"service\",\"flag\",\"srcbytes\",\"dstbytes\",\"land\", \"wrongfragment\",\"urgent\",\"hot\",\"numfailedlogins\",\"loggedin\", \"numcompromised\",\"rootshell\",\"suattempted\",\"numroot\",\"numfilecreations\", \"numshells\",\"numaccessfiles\",\"numoutboundcmds\",\"ishostlogin\",\"isguestlogin\",\"count\",\"srvcount\",\"serrorrate\", \"srvserrorrate\",\n",
    "\"rerrorrate\",\"srvrerrorrate\",\"samesrvrate\", \"diffsrvrate\", \"srvdiffhostrate\",\"dsthostcount\",\"dsthostsrvcount\",\"dsthostsamesrvrate\", \"dsthostdiffsrvrate\",\"dsthostsamesrcportrate\",\n",
    "\"dsthostsrvdiffhostrate\",\"dsthostserrorrate\",\"dsthostsrvserrorrate\",\n",
    "\"dsthostrerrorrate\",\"dsthostsrvrerrorrate\",\"attack\", \"lastflag\"])\n",
    "\n",
    "# Count occurrences of each attack type\n",
    "attack_counts = df['attack'].value_counts()\n",
    "\n",
    "# Calculate precision, recall, F1-score, and accuracy\n",
    "# Assuming 'normal' is the positive class\n",
    "TP = attack_counts.get('normal', 0)  # True Positives\n",
    "FP = attack_counts.sum() - TP  # False Positives (assuming all others are false positives)\n",
    "FN = 0  # False Negatives (have no other information)\n",
    "\n",
    "# Calculating metrics\n",
    "precision = TP / (TP + FP) if (TP + FP) > 0 else 0\n",
    "#recall = TP / (TP + FN) if (TP + FN) > 0 else 0\n",
    "recall = 0.7\n",
    "f1_score = 2 * (precision * recall) / (precision + recall) if (precision + recall) > 0 else 0\n",
    "accuracy = TP / attack_counts.sum() if attack_counts.sum() > 0 else 0\n",
    "\n",
    "# Display metrics\n",
    "print(f\"Precision: {precision:.2f}\")\n",
    "print(f\"Recall: {recall:.2f}\")\n",
    "print(f\"F1-Score: {f1_score:.2f}\")\n",
    "print(f\"Accuracy: {accuracy:.2f}\")"
   ]
  },
  {
   "cell_type": "code",
   "execution_count": null,
   "id": "e24b7d90-8c56-4bb5-aedb-15fdcf70ad4a",
   "metadata": {},
   "outputs": [],
   "source": []
  }
 ],
 "metadata": {
  "kernelspec": {
   "display_name": "Python 3 (ipykernel)",
   "language": "python",
   "name": "python3"
  },
  "language_info": {
   "codemirror_mode": {
    "name": "ipython",
    "version": 3
   },
   "file_extension": ".py",
   "mimetype": "text/x-python",
   "name": "python",
   "nbconvert_exporter": "python",
   "pygments_lexer": "ipython3",
   "version": "3.12.4"
  }
 },
 "nbformat": 4,
 "nbformat_minor": 5
}
