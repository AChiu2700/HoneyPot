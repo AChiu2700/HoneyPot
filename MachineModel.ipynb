{
 "cells": [
  {
   "cell_type": "code",
   "execution_count": 1,
   "id": "73d96091-1361-4726-ac8c-819c075aeccf",
   "metadata": {},
   "outputs": [],
   "source": [
    "# Data manipulation and processing\n",
    "import pandas as pd\n",
    "import numpy as np\n",
    "import re  # Added for regex operations\n",
    "\n",
    "# Sklearn preprocessing and scaling\n",
    "from sklearn.preprocessing import LabelEncoder, StandardScaler\n",
    "from sklearn.feature_extraction.text import TfidfVectorizer\n",
    "from sklearn.metrics import (\n",
    "    precision_score, recall_score, f1_score, roc_curve, auc,\n",
    "    accuracy_score, classification_report, precision_recall_curve, confusion_matrix\n",
    ")\n",
    "\n",
    "# Model selection and evaluation\n",
    "from sklearn.model_selection import train_test_split\n",
    "from sklearn.ensemble import VotingClassifier\n",
    "from xgboost import XGBClassifier\n",
    "from sklearn.svm import SVC  # Importing SVM\n",
    "from sklearn.utils import resample\n",
    "import matplotlib.pyplot as plt\n",
    "import warnings\n",
    "\n",
    "# Ignore warnings\n",
    "warnings.filterwarnings(\"ignore\")"
   ]
  },
  {
   "cell_type": "code",
   "execution_count": 2,
   "id": "29badc19-00f3-4100-b88d-c7c7fa15170b",
   "metadata": {},
   "outputs": [
    {
     "name": "stdout",
     "output_type": "stream",
     "text": [
      "Initial shape of data: (19317, 13)\n"
     ]
    }
   ],
   "source": [
    "# Load data\n",
    "data = pd.read_csv('/home/achoo/Desktop/Honeypot/sanitized_logs_combined.csv', delimiter=',', header=None)\n",
    "data.columns = ['eventid', 'src_ip', 'src_port', 'dst_ip', 'dst_port', 'session', \n",
    "                'protocol', 'version', 'hassh', 'hasshAlgorithms', 'message', \n",
    "                'sensor', 'timestamp']\n",
    "\n",
    "# Check initial shape of data\n",
    "print(f\"Initial shape of data: {data.shape}\")\n",
    "\n",
    "# Define keywords that indicate malicious activity\n",
    "malicious_keywords = ['failed', 'whoami', 'uname', 'chattr', 'cat', ' rm', '.ssh', 'authorized_keys',\n",
    "                      'grep', 'chmod', 'curl', 'not found', 'mkdir']\n",
    "\n",
    "# Create a target column based on the presence of keywords in the 'message' column\n",
    "data['attack'] = data['message'].apply(lambda x: 1 if any(keyword in x for keyword in malicious_keywords) else 0)\n",
    "\n",
    "# Keep only selected columns\n",
    "data = data[['message', 'hasshAlgorithms', 'eventid', 'protocol', 'attack']]"
   ]
  },
  {
   "cell_type": "code",
   "execution_count": 3,
   "id": "abefeda0-4ff0-47ee-9128-1ab91c46bbab",
   "metadata": {},
   "outputs": [],
   "source": [
    "# Initialize a LabelEncoder to encode categorical columns\n",
    "le = LabelEncoder()\n",
    "\n",
    "# Encode categorical columns (hasshAlgorithms, eventid, protocol)\n",
    "data['hasshAlgorithms'] = le.fit_transform(data['hasshAlgorithms'])\n",
    "data['eventid'] = le.fit_transform(data['eventid'])\n",
    "data['protocol'] = le.fit_transform(data['protocol'])\n",
    "\n",
    "# Separate the data into two groups: class 0 (non-malicious) and class 1 (malicious)\n",
    "class_0 = data[data['attack'] == 0]\n",
    "class_1 = data[data['attack'] == 1]\n",
    "\n",
    "# Randomly undersample class 0 to match the number of instances in class 1\n",
    "class_0_balanced = class_0.sample(n=len(class_1), random_state=42)\n",
    "\n",
    "# Combine the balanced classes back together\n",
    "balanced_data = pd.concat([class_0_balanced, class_1])\n",
    "\n",
    "# Shuffle the balanced dataset\n",
    "balanced_data = balanced_data.sample(frac=1, random_state=42).reset_index(drop=True)"
   ]
  },
  {
   "cell_type": "code",
   "execution_count": 4,
   "id": "a52ca86c-eb47-4e18-9c84-ea0bbdf1b6ed",
   "metadata": {},
   "outputs": [],
   "source": [
    "# Vectorize the 'message' column using TF-IDF\n",
    "tfidf = TfidfVectorizer(max_features=500)  # Limit the number of features to prevent overfitting\n",
    "message_tfidf = tfidf.fit_transform(balanced_data['message'])\n",
    "\n",
    "# Convert the TF-IDF features into a DataFrame and concatenate with the other features\n",
    "message_tfidf_df = pd.DataFrame(message_tfidf.toarray(), columns=tfidf.get_feature_names_out())\n",
    "balanced_data = pd.concat([balanced_data.drop('message', axis=1), message_tfidf_df], axis=1)\n",
    "\n",
    "# Separate features (X) and labels (y)\n",
    "X = balanced_data.drop(['attack'], axis=1)\n",
    "y = balanced_data['attack']\n",
    "\n",
    "# Initialize StandardScaler to scale feature data\n",
    "scaler = StandardScaler()\n",
    "X_scaled = scaler.fit_transform(X)\n",
    "\n",
    "# Split data into train and validation sets\n",
    "X_train, X_val, y_train, y_val = train_test_split(X_scaled, y, test_size=0.2, random_state=42, stratify=y)"
   ]
  },
  {
   "cell_type": "code",
   "execution_count": 5,
   "id": "a0da8f8e-aced-4214-ae54-3358bbf5cbb7",
   "metadata": {},
   "outputs": [
    {
     "name": "stdout",
     "output_type": "stream",
     "text": [
      "SVM Classifier Evaluation:\n",
      "Accuracy: 0.9942\n",
      "[[692   3]\n",
      " [  5 689]]\n",
      "              precision    recall  f1-score   support\n",
      "\n",
      "           0       0.99      1.00      0.99       695\n",
      "           1       1.00      0.99      0.99       694\n",
      "\n",
      "    accuracy                           0.99      1389\n",
      "   macro avg       0.99      0.99      0.99      1389\n",
      "weighted avg       0.99      0.99      0.99      1389\n",
      "\n"
     ]
    }
   ],
   "source": [
    "# Initialize Support Vector Machine Classifier\n",
    "model_svm = SVC(probability=True, random_state=42)  # Enable probability estimates\n",
    "\n",
    "# Train the model\n",
    "model_svm.fit(X_train, y_train)\n",
    "\n",
    "# Predict on validation set\n",
    "y_pred_svm = model_svm.predict(X_val)\n",
    "\n",
    "# Evaluate the SVM model\n",
    "print(\"SVM Classifier Evaluation:\")\n",
    "print(f\"Accuracy: {accuracy_score(y_val, y_pred_svm):.4f}\")\n",
    "print(confusion_matrix(y_val, y_pred_svm))\n",
    "print(classification_report(y_val, y_pred_svm))"
   ]
  },
  {
   "cell_type": "code",
   "execution_count": 6,
   "id": "341edd3a-609b-4225-9263-b8b691154356",
   "metadata": {},
   "outputs": [
    {
     "name": "stdout",
     "output_type": "stream",
     "text": [
      "XGBoost Classifier Evaluation:\n",
      "Accuracy: 0.9986\n",
      "[[693   2]\n",
      " [  0 694]]\n",
      "              precision    recall  f1-score   support\n",
      "\n",
      "           0       1.00      1.00      1.00       695\n",
      "           1       1.00      1.00      1.00       694\n",
      "\n",
      "    accuracy                           1.00      1389\n",
      "   macro avg       1.00      1.00      1.00      1389\n",
      "weighted avg       1.00      1.00      1.00      1389\n",
      "\n"
     ]
    }
   ],
   "source": [
    "# Initialize XGBoost Classifier\n",
    "model_xgb = XGBClassifier(use_label_encoder=False, eval_metric='logloss', random_state=42)\n",
    "\n",
    "# Train the model\n",
    "model_xgb.fit(X_train, y_train)\n",
    "\n",
    "# Predict on validation set\n",
    "y_pred_xgb = model_xgb.predict(X_val)\n",
    "\n",
    "# Evaluate the XGBoost model\n",
    "print(\"XGBoost Classifier Evaluation:\")\n",
    "print(f\"Accuracy: {accuracy_score(y_val, y_pred_xgb):.4f}\")\n",
    "print(confusion_matrix(y_val, y_pred_xgb))\n",
    "print(classification_report(y_val, y_pred_xgb))"
   ]
  },
  {
   "cell_type": "code",
   "execution_count": 7,
   "id": "cee51f9b-7ab2-4242-ba41-b0b1cba42dd7",
   "metadata": {},
   "outputs": [
    {
     "name": "stdout",
     "output_type": "stream",
     "text": [
      "Voting Classifier (Soft) Evaluation:\n",
      "Accuracy: 0.9986\n",
      "[[693   2]\n",
      " [  0 694]]\n",
      "              precision    recall  f1-score   support\n",
      "\n",
      "           0       1.00      1.00      1.00       695\n",
      "           1       1.00      1.00      1.00       694\n",
      "\n",
      "    accuracy                           1.00      1389\n",
      "   macro avg       1.00      1.00      1.00      1389\n",
      "weighted avg       1.00      1.00      1.00      1389\n",
      "\n"
     ]
    }
   ],
   "source": [
    "# Initialize VotingClassifier with soft voting\n",
    "voting_clf = VotingClassifier(\n",
    "    estimators=[('xgb', model_xgb), ('svm', model_svm)],\n",
    "    voting='soft'\n",
    ")\n",
    "\n",
    "# Train the VotingClassifier\n",
    "voting_clf.fit(X_train, y_train)\n",
    "\n",
    "# Predict on validation set\n",
    "y_pred_voting = voting_clf.predict(X_val)\n",
    "\n",
    "# Evaluate the Voting Classifier\n",
    "print(\"Voting Classifier (Soft) Evaluation:\")\n",
    "print(f\"Accuracy: {accuracy_score(y_val, y_pred_voting):.4f}\")\n",
    "print(confusion_matrix(y_val, y_pred_voting))\n",
    "print(classification_report(y_val, y_pred_voting))"
   ]
  },
  {
   "cell_type": "code",
   "execution_count": 8,
   "id": "cb865460-ce60-4569-b95b-4ae376c60767",
   "metadata": {},
   "outputs": [
    {
     "name": "stdout",
     "output_type": "stream",
     "text": [
      "Models have been saved successfully.\n"
     ]
    }
   ],
   "source": [
    "# Import necessary libraries for saving models\n",
    "import pickle\n",
    "\n",
    "# Save the trained models to disk\n",
    "filename_xgb = 'finalized_model_XGB.sav'\n",
    "filename_svm = 'finalized_model_SVM.sav'  # Added filename for SVM\n",
    "filename_voting = 'finalized_model_Voting.sav'\n",
    "\n",
    "# Save each model using pickle\n",
    "with open(filename_xgb, 'wb') as file:\n",
    "    pickle.dump(model_xgb, file)\n",
    "\n",
    "with open(filename_svm, 'wb') as file:  # Save SVM model\n",
    "    pickle.dump(model_svm, file)\n",
    "\n",
    "with open(filename_voting, 'wb') as file:\n",
    "    pickle.dump(voting_clf, file)\n",
    "\n",
    "# Confirm models have been saved\n",
    "print(\"Models have been saved successfully.\")"
   ]
  },
  {
   "cell_type": "code",
   "execution_count": 9,
   "id": "9c7f4fc8-a415-466c-90a9-86b55f9c75d1",
   "metadata": {},
   "outputs": [],
   "source": [
    "# Load the trained models\n",
    "with open('finalized_model_XGB.sav', 'rb') as f:\n",
    "    model_xgb = pickle.load(f)\n",
    "\n",
    "with open('finalized_model_SVM.sav', 'rb') as f:  \n",
    "    model_svm = pickle.load(f)\n",
    "\n",
    "with open('finalized_model_Voting.sav', 'rb') as f:\n",
    "    voting_classifier = pickle.load(f)"
   ]
  },
  {
   "cell_type": "code",
   "execution_count": 10,
   "id": "4c93d3dd-0e5c-48ac-8e58-e0751efe1a25",
   "metadata": {},
   "outputs": [],
   "source": [
    "# Load test data\n",
    "test_data = pd.read_csv('/home/achoo/Desktop/Honeypot/test_sanitized_logs_combined.csv', delimiter=',', header=None)\n",
    "test_data.columns = ['eventid', 'src_ip', 'src_port', 'dst_ip', 'dst_port', 'session', \n",
    "                     'protocol', 'version', 'hassh', 'hasshAlgorithms', 'message', \n",
    "                     'sensor', 'timestamp']\n",
    "\n",
    "malicious_keywords = ['failed', 'whoami', 'uname', 'chattr', 'cat', ' rm', '.ssh', 'authorized_keys',\n",
    "                      'grep', 'chmod', 'curl', 'not found', 'mkdir']\n",
    "\n",
    "# Define a function to check for malicious login attempts\n",
    "def flag_malicious(message):\n",
    "    # Check for standard malicious keywords\n",
    "    if any(keyword in message for keyword in malicious_keywords):\n",
    "        return 1\n",
    "    # Check for failed login attempts with random values\n",
    "    failed_login_pattern = r'login attempt \\[root\\/[^\\]]+\\] failed'\n",
    "    if re.search(failed_login_pattern, message):\n",
    "        return 1\n",
    "    return 0\n",
    "\n",
    "# Create a target column based on the presence of keywords in the 'message' column\n",
    "test_data['attack'] = test_data['message'].apply(lambda x: 1 if any(keyword in x for keyword in malicious_keywords) else 0)\n",
    "\n",
    "# Keep only selected columns\n",
    "test_data = test_data[['message', 'hasshAlgorithms', 'eventid', 'protocol', 'attack']]\n",
    "\n",
    "# Initialize a LabelEncoder to encode categorical columns\n",
    "le = LabelEncoder()\n",
    "\n",
    "# Encode categorical columns (hasshAlgorithms, eventid, protocol)\n",
    "test_data['hasshAlgorithms'] = le.fit_transform(test_data['hasshAlgorithms'])\n",
    "test_data['eventid'] = le.fit_transform(test_data['eventid'])\n",
    "test_data['protocol'] = le.fit_transform(test_data['protocol'])\n",
    "\n",
    "# Vectorize the 'message' column using the same TF-IDF vectorizer settings\n",
    "tfidf = TfidfVectorizer(max_features=500)\n",
    "message_tfidf = tfidf.fit_transform(test_data['message'])\n",
    "\n",
    "# Convert the TF-IDF features into a DataFrame and concatenate with the other features\n",
    "message_tfidf_df = pd.DataFrame(message_tfidf.toarray(), columns=tfidf.get_feature_names_out())\n",
    "test_data = pd.concat([test_data.drop('message', axis=1), message_tfidf_df], axis=1)\n",
    "\n",
    "# Separate features (X_test) and labels (y_test)\n",
    "X_test = test_data.drop(['attack'], axis=1)\n",
    "y_test = test_data['attack']\n",
    "\n",
    "# Initialize StandardScaler to scale feature data\n",
    "scaler = StandardScaler()\n",
    "X_test_scaled = scaler.fit_transform(X_test)"
   ]
  },
  {
   "cell_type": "code",
   "execution_count": 11,
   "id": "3a4150cc-4d4e-41f6-9bfb-3ecba65a5508",
   "metadata": {},
   "outputs": [
    {
     "name": "stdout",
     "output_type": "stream",
     "text": [
      "XGBoost Classifier Test Evaluation:\n",
      "Accuracy: 0.8217\n",
      "[[17296   437]\n",
      " [ 3413   451]]\n",
      "              precision    recall  f1-score   support\n",
      "\n",
      "           0       0.84      0.98      0.90     17733\n",
      "           1       0.51      0.12      0.19      3864\n",
      "\n",
      "    accuracy                           0.82     21597\n",
      "   macro avg       0.67      0.55      0.54     21597\n",
      "weighted avg       0.78      0.82      0.77     21597\n",
      "\n",
      "SVM Classifier Test Evaluation:\n",
      "Accuracy: 0.8302\n",
      "[[15697  2036]\n",
      " [ 1631  2233]]\n",
      "              precision    recall  f1-score   support\n",
      "\n",
      "           0       0.91      0.89      0.90     17733\n",
      "           1       0.52      0.58      0.55      3864\n",
      "\n",
      "    accuracy                           0.83     21597\n",
      "   macro avg       0.71      0.73      0.72     21597\n",
      "weighted avg       0.84      0.83      0.83     21597\n",
      "\n",
      "Voting Classifier Test Evaluation:\n",
      "Accuracy: 0.8418\n",
      "[[17290   443]\n",
      " [ 2974   890]]\n",
      "              precision    recall  f1-score   support\n",
      "\n",
      "           0       0.85      0.98      0.91     17733\n",
      "           1       0.67      0.23      0.34      3864\n",
      "\n",
      "    accuracy                           0.84     21597\n",
      "   macro avg       0.76      0.60      0.63     21597\n",
      "weighted avg       0.82      0.84      0.81     21597\n",
      "\n"
     ]
    }
   ],
   "source": [
    "# Evaluate XGBoost Classifier on test data\n",
    "xgb_pred = model_xgb.predict(X_test_scaled)\n",
    "print(\"XGBoost Classifier Test Evaluation:\")\n",
    "print(f\"Accuracy: {accuracy_score(y_test, xgb_pred):.4f}\")\n",
    "print(confusion_matrix(y_test, xgb_pred))\n",
    "print(classification_report(y_test, xgb_pred))\n",
    "\n",
    "# Evaluate SVM Classifier on test data\n",
    "svm_pred = model_svm.predict(X_test_scaled)\n",
    "print(\"SVM Classifier Test Evaluation:\")\n",
    "print(f\"Accuracy: {accuracy_score(y_test, svm_pred):.4f}\")\n",
    "print(confusion_matrix(y_test, svm_pred))\n",
    "print(classification_report(y_test, svm_pred))\n",
    "\n",
    "# Evaluate Voting Classifier on test data\n",
    "voting_pred = voting_clf.predict(X_test_scaled)\n",
    "print(\"Voting Classifier Test Evaluation:\")\n",
    "print(f\"Accuracy: {accuracy_score(y_test, voting_pred):.4f}\")\n",
    "print(confusion_matrix(y_test, voting_pred))\n",
    "print(classification_report(y_test, voting_pred))"
   ]
  },
  {
   "cell_type": "code",
   "execution_count": null,
   "id": "1b523914-d82e-4734-b1c6-ed391288b45e",
   "metadata": {},
   "outputs": [],
   "source": []
  }
 ],
 "metadata": {
  "kernelspec": {
   "display_name": "Python 3 (ipykernel)",
   "language": "python",
   "name": "python3"
  },
  "language_info": {
   "codemirror_mode": {
    "name": "ipython",
    "version": 3
   },
   "file_extension": ".py",
   "mimetype": "text/x-python",
   "name": "python",
   "nbconvert_exporter": "python",
   "pygments_lexer": "ipython3",
   "version": "3.12.4"
  }
 },
 "nbformat": 4,
 "nbformat_minor": 5
}
